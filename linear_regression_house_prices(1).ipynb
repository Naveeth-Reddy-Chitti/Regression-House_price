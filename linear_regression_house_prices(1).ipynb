{
  "nbformat": 4,
  "nbformat_minor": 0,
  "metadata": {
    "colab": {
      "name": "linear_regression_house_prices.ipynb",
      "provenance": [],
      "collapsed_sections": []
    },
    "kernelspec": {
      "name": "python3",
      "display_name": "Python 3"
    },
    "language_info": {
      "name": "python"
    }
  },
  "cells": [
    {
      "cell_type": "markdown",
      "source": [
        "# **Linear Regression**\n",
        "Mounting google drive"
      ],
      "metadata": {
        "id": "FL9ZAUpfFDdM"
      }
    },
    {
      "cell_type": "code",
      "execution_count": 2,
      "metadata": {
        "colab": {
          "base_uri": "https://localhost:8080/"
        },
        "id": "OZuYaP7H5eIj",
        "outputId": "9824d3e4-c045-4b18-f011-151da107fb1f"
      },
      "outputs": [
        {
          "output_type": "stream",
          "name": "stdout",
          "text": [
            "Mounted at /content/drive/\n"
          ]
        }
      ],
      "source": [
        "from google.colab import drive\n",
        "drive.mount('/content/drive/')"
      ]
    },
    {
      "cell_type": "markdown",
      "source": [
        "importing required libraries"
      ],
      "metadata": {
        "id": "olXIYCnjFttR"
      }
    },
    {
      "cell_type": "code",
      "execution_count": 3,
      "metadata": {
        "id": "GIthfkyXuKS1"
      },
      "outputs": [],
      "source": [
        "import numpy as np\n",
        "import pandas as pd\n",
        "import csv"
      ]
    },
    {
      "cell_type": "markdown",
      "source": [
        "Load the data"
      ],
      "metadata": {
        "id": "oC1yJNzrF0L3"
      }
    },
    {
      "cell_type": "code",
      "source": [
        "df=pd.read_csv(\"/content/drive/MyDrive/kc_house_data.csv\")\n",
        "df"
      ],
      "metadata": {
        "colab": {
          "base_uri": "https://localhost:8080/",
          "height": 424
        },
        "id": "r17luUVM8j21",
        "outputId": "97a7ec99-9eba-49a7-d3b0-644eb4e118dc"
      },
      "execution_count": 4,
      "outputs": [
        {
          "output_type": "execute_result",
          "data": {
            "text/plain": [
              "               id             date     price  bedrooms  bathrooms  \\\n",
              "0      7129300520  20141013T000000  221900.0         3       1.00   \n",
              "1      6414100192  20141209T000000  538000.0         3       2.25   \n",
              "2      5631500400  20150225T000000  180000.0         2       1.00   \n",
              "3      2487200875  20141209T000000  604000.0         4       3.00   \n",
              "4      1954400510  20150218T000000  510000.0         3       2.00   \n",
              "...           ...              ...       ...       ...        ...   \n",
              "21608   263000018  20140521T000000  360000.0         3       2.50   \n",
              "21609  6600060120  20150223T000000  400000.0         4       2.50   \n",
              "21610  1523300141  20140623T000000  402101.0         2       0.75   \n",
              "21611   291310100  20150116T000000  400000.0         3       2.50   \n",
              "21612  1523300157  20141015T000000  325000.0         2       0.75   \n",
              "\n",
              "       sqft_living  sqft_lot  floors  waterfront  view  ...  grade  \\\n",
              "0             1180      5650     1.0           0     0  ...      7   \n",
              "1             2570      7242     2.0           0     0  ...      7   \n",
              "2              770     10000     1.0           0     0  ...      6   \n",
              "3             1960      5000     1.0           0     0  ...      7   \n",
              "4             1680      8080     1.0           0     0  ...      8   \n",
              "...            ...       ...     ...         ...   ...  ...    ...   \n",
              "21608         1530      1131     3.0           0     0  ...      8   \n",
              "21609         2310      5813     2.0           0     0  ...      8   \n",
              "21610         1020      1350     2.0           0     0  ...      7   \n",
              "21611         1600      2388     2.0           0     0  ...      8   \n",
              "21612         1020      1076     2.0           0     0  ...      7   \n",
              "\n",
              "       sqft_above  sqft_basement  yr_built  yr_renovated  zipcode      lat  \\\n",
              "0            1180              0      1955             0    98178  47.5112   \n",
              "1            2170            400      1951          1991    98125  47.7210   \n",
              "2             770              0      1933             0    98028  47.7379   \n",
              "3            1050            910      1965             0    98136  47.5208   \n",
              "4            1680              0      1987             0    98074  47.6168   \n",
              "...           ...            ...       ...           ...      ...      ...   \n",
              "21608        1530              0      2009             0    98103  47.6993   \n",
              "21609        2310              0      2014             0    98146  47.5107   \n",
              "21610        1020              0      2009             0    98144  47.5944   \n",
              "21611        1600              0      2004             0    98027  47.5345   \n",
              "21612        1020              0      2008             0    98144  47.5941   \n",
              "\n",
              "          long  sqft_living15  sqft_lot15  \n",
              "0     -122.257           1340        5650  \n",
              "1     -122.319           1690        7639  \n",
              "2     -122.233           2720        8062  \n",
              "3     -122.393           1360        5000  \n",
              "4     -122.045           1800        7503  \n",
              "...        ...            ...         ...  \n",
              "21608 -122.346           1530        1509  \n",
              "21609 -122.362           1830        7200  \n",
              "21610 -122.299           1020        2007  \n",
              "21611 -122.069           1410        1287  \n",
              "21612 -122.299           1020        1357  \n",
              "\n",
              "[21613 rows x 21 columns]"
            ],
            "text/html": [
              "\n",
              "  <div id=\"df-3159968c-ba96-452f-b615-2ab91d5f2447\">\n",
              "    <div class=\"colab-df-container\">\n",
              "      <div>\n",
              "<style scoped>\n",
              "    .dataframe tbody tr th:only-of-type {\n",
              "        vertical-align: middle;\n",
              "    }\n",
              "\n",
              "    .dataframe tbody tr th {\n",
              "        vertical-align: top;\n",
              "    }\n",
              "\n",
              "    .dataframe thead th {\n",
              "        text-align: right;\n",
              "    }\n",
              "</style>\n",
              "<table border=\"1\" class=\"dataframe\">\n",
              "  <thead>\n",
              "    <tr style=\"text-align: right;\">\n",
              "      <th></th>\n",
              "      <th>id</th>\n",
              "      <th>date</th>\n",
              "      <th>price</th>\n",
              "      <th>bedrooms</th>\n",
              "      <th>bathrooms</th>\n",
              "      <th>sqft_living</th>\n",
              "      <th>sqft_lot</th>\n",
              "      <th>floors</th>\n",
              "      <th>waterfront</th>\n",
              "      <th>view</th>\n",
              "      <th>...</th>\n",
              "      <th>grade</th>\n",
              "      <th>sqft_above</th>\n",
              "      <th>sqft_basement</th>\n",
              "      <th>yr_built</th>\n",
              "      <th>yr_renovated</th>\n",
              "      <th>zipcode</th>\n",
              "      <th>lat</th>\n",
              "      <th>long</th>\n",
              "      <th>sqft_living15</th>\n",
              "      <th>sqft_lot15</th>\n",
              "    </tr>\n",
              "  </thead>\n",
              "  <tbody>\n",
              "    <tr>\n",
              "      <th>0</th>\n",
              "      <td>7129300520</td>\n",
              "      <td>20141013T000000</td>\n",
              "      <td>221900.0</td>\n",
              "      <td>3</td>\n",
              "      <td>1.00</td>\n",
              "      <td>1180</td>\n",
              "      <td>5650</td>\n",
              "      <td>1.0</td>\n",
              "      <td>0</td>\n",
              "      <td>0</td>\n",
              "      <td>...</td>\n",
              "      <td>7</td>\n",
              "      <td>1180</td>\n",
              "      <td>0</td>\n",
              "      <td>1955</td>\n",
              "      <td>0</td>\n",
              "      <td>98178</td>\n",
              "      <td>47.5112</td>\n",
              "      <td>-122.257</td>\n",
              "      <td>1340</td>\n",
              "      <td>5650</td>\n",
              "    </tr>\n",
              "    <tr>\n",
              "      <th>1</th>\n",
              "      <td>6414100192</td>\n",
              "      <td>20141209T000000</td>\n",
              "      <td>538000.0</td>\n",
              "      <td>3</td>\n",
              "      <td>2.25</td>\n",
              "      <td>2570</td>\n",
              "      <td>7242</td>\n",
              "      <td>2.0</td>\n",
              "      <td>0</td>\n",
              "      <td>0</td>\n",
              "      <td>...</td>\n",
              "      <td>7</td>\n",
              "      <td>2170</td>\n",
              "      <td>400</td>\n",
              "      <td>1951</td>\n",
              "      <td>1991</td>\n",
              "      <td>98125</td>\n",
              "      <td>47.7210</td>\n",
              "      <td>-122.319</td>\n",
              "      <td>1690</td>\n",
              "      <td>7639</td>\n",
              "    </tr>\n",
              "    <tr>\n",
              "      <th>2</th>\n",
              "      <td>5631500400</td>\n",
              "      <td>20150225T000000</td>\n",
              "      <td>180000.0</td>\n",
              "      <td>2</td>\n",
              "      <td>1.00</td>\n",
              "      <td>770</td>\n",
              "      <td>10000</td>\n",
              "      <td>1.0</td>\n",
              "      <td>0</td>\n",
              "      <td>0</td>\n",
              "      <td>...</td>\n",
              "      <td>6</td>\n",
              "      <td>770</td>\n",
              "      <td>0</td>\n",
              "      <td>1933</td>\n",
              "      <td>0</td>\n",
              "      <td>98028</td>\n",
              "      <td>47.7379</td>\n",
              "      <td>-122.233</td>\n",
              "      <td>2720</td>\n",
              "      <td>8062</td>\n",
              "    </tr>\n",
              "    <tr>\n",
              "      <th>3</th>\n",
              "      <td>2487200875</td>\n",
              "      <td>20141209T000000</td>\n",
              "      <td>604000.0</td>\n",
              "      <td>4</td>\n",
              "      <td>3.00</td>\n",
              "      <td>1960</td>\n",
              "      <td>5000</td>\n",
              "      <td>1.0</td>\n",
              "      <td>0</td>\n",
              "      <td>0</td>\n",
              "      <td>...</td>\n",
              "      <td>7</td>\n",
              "      <td>1050</td>\n",
              "      <td>910</td>\n",
              "      <td>1965</td>\n",
              "      <td>0</td>\n",
              "      <td>98136</td>\n",
              "      <td>47.5208</td>\n",
              "      <td>-122.393</td>\n",
              "      <td>1360</td>\n",
              "      <td>5000</td>\n",
              "    </tr>\n",
              "    <tr>\n",
              "      <th>4</th>\n",
              "      <td>1954400510</td>\n",
              "      <td>20150218T000000</td>\n",
              "      <td>510000.0</td>\n",
              "      <td>3</td>\n",
              "      <td>2.00</td>\n",
              "      <td>1680</td>\n",
              "      <td>8080</td>\n",
              "      <td>1.0</td>\n",
              "      <td>0</td>\n",
              "      <td>0</td>\n",
              "      <td>...</td>\n",
              "      <td>8</td>\n",
              "      <td>1680</td>\n",
              "      <td>0</td>\n",
              "      <td>1987</td>\n",
              "      <td>0</td>\n",
              "      <td>98074</td>\n",
              "      <td>47.6168</td>\n",
              "      <td>-122.045</td>\n",
              "      <td>1800</td>\n",
              "      <td>7503</td>\n",
              "    </tr>\n",
              "    <tr>\n",
              "      <th>...</th>\n",
              "      <td>...</td>\n",
              "      <td>...</td>\n",
              "      <td>...</td>\n",
              "      <td>...</td>\n",
              "      <td>...</td>\n",
              "      <td>...</td>\n",
              "      <td>...</td>\n",
              "      <td>...</td>\n",
              "      <td>...</td>\n",
              "      <td>...</td>\n",
              "      <td>...</td>\n",
              "      <td>...</td>\n",
              "      <td>...</td>\n",
              "      <td>...</td>\n",
              "      <td>...</td>\n",
              "      <td>...</td>\n",
              "      <td>...</td>\n",
              "      <td>...</td>\n",
              "      <td>...</td>\n",
              "      <td>...</td>\n",
              "      <td>...</td>\n",
              "    </tr>\n",
              "    <tr>\n",
              "      <th>21608</th>\n",
              "      <td>263000018</td>\n",
              "      <td>20140521T000000</td>\n",
              "      <td>360000.0</td>\n",
              "      <td>3</td>\n",
              "      <td>2.50</td>\n",
              "      <td>1530</td>\n",
              "      <td>1131</td>\n",
              "      <td>3.0</td>\n",
              "      <td>0</td>\n",
              "      <td>0</td>\n",
              "      <td>...</td>\n",
              "      <td>8</td>\n",
              "      <td>1530</td>\n",
              "      <td>0</td>\n",
              "      <td>2009</td>\n",
              "      <td>0</td>\n",
              "      <td>98103</td>\n",
              "      <td>47.6993</td>\n",
              "      <td>-122.346</td>\n",
              "      <td>1530</td>\n",
              "      <td>1509</td>\n",
              "    </tr>\n",
              "    <tr>\n",
              "      <th>21609</th>\n",
              "      <td>6600060120</td>\n",
              "      <td>20150223T000000</td>\n",
              "      <td>400000.0</td>\n",
              "      <td>4</td>\n",
              "      <td>2.50</td>\n",
              "      <td>2310</td>\n",
              "      <td>5813</td>\n",
              "      <td>2.0</td>\n",
              "      <td>0</td>\n",
              "      <td>0</td>\n",
              "      <td>...</td>\n",
              "      <td>8</td>\n",
              "      <td>2310</td>\n",
              "      <td>0</td>\n",
              "      <td>2014</td>\n",
              "      <td>0</td>\n",
              "      <td>98146</td>\n",
              "      <td>47.5107</td>\n",
              "      <td>-122.362</td>\n",
              "      <td>1830</td>\n",
              "      <td>7200</td>\n",
              "    </tr>\n",
              "    <tr>\n",
              "      <th>21610</th>\n",
              "      <td>1523300141</td>\n",
              "      <td>20140623T000000</td>\n",
              "      <td>402101.0</td>\n",
              "      <td>2</td>\n",
              "      <td>0.75</td>\n",
              "      <td>1020</td>\n",
              "      <td>1350</td>\n",
              "      <td>2.0</td>\n",
              "      <td>0</td>\n",
              "      <td>0</td>\n",
              "      <td>...</td>\n",
              "      <td>7</td>\n",
              "      <td>1020</td>\n",
              "      <td>0</td>\n",
              "      <td>2009</td>\n",
              "      <td>0</td>\n",
              "      <td>98144</td>\n",
              "      <td>47.5944</td>\n",
              "      <td>-122.299</td>\n",
              "      <td>1020</td>\n",
              "      <td>2007</td>\n",
              "    </tr>\n",
              "    <tr>\n",
              "      <th>21611</th>\n",
              "      <td>291310100</td>\n",
              "      <td>20150116T000000</td>\n",
              "      <td>400000.0</td>\n",
              "      <td>3</td>\n",
              "      <td>2.50</td>\n",
              "      <td>1600</td>\n",
              "      <td>2388</td>\n",
              "      <td>2.0</td>\n",
              "      <td>0</td>\n",
              "      <td>0</td>\n",
              "      <td>...</td>\n",
              "      <td>8</td>\n",
              "      <td>1600</td>\n",
              "      <td>0</td>\n",
              "      <td>2004</td>\n",
              "      <td>0</td>\n",
              "      <td>98027</td>\n",
              "      <td>47.5345</td>\n",
              "      <td>-122.069</td>\n",
              "      <td>1410</td>\n",
              "      <td>1287</td>\n",
              "    </tr>\n",
              "    <tr>\n",
              "      <th>21612</th>\n",
              "      <td>1523300157</td>\n",
              "      <td>20141015T000000</td>\n",
              "      <td>325000.0</td>\n",
              "      <td>2</td>\n",
              "      <td>0.75</td>\n",
              "      <td>1020</td>\n",
              "      <td>1076</td>\n",
              "      <td>2.0</td>\n",
              "      <td>0</td>\n",
              "      <td>0</td>\n",
              "      <td>...</td>\n",
              "      <td>7</td>\n",
              "      <td>1020</td>\n",
              "      <td>0</td>\n",
              "      <td>2008</td>\n",
              "      <td>0</td>\n",
              "      <td>98144</td>\n",
              "      <td>47.5941</td>\n",
              "      <td>-122.299</td>\n",
              "      <td>1020</td>\n",
              "      <td>1357</td>\n",
              "    </tr>\n",
              "  </tbody>\n",
              "</table>\n",
              "<p>21613 rows × 21 columns</p>\n",
              "</div>\n",
              "      <button class=\"colab-df-convert\" onclick=\"convertToInteractive('df-3159968c-ba96-452f-b615-2ab91d5f2447')\"\n",
              "              title=\"Convert this dataframe to an interactive table.\"\n",
              "              style=\"display:none;\">\n",
              "        \n",
              "  <svg xmlns=\"http://www.w3.org/2000/svg\" height=\"24px\"viewBox=\"0 0 24 24\"\n",
              "       width=\"24px\">\n",
              "    <path d=\"M0 0h24v24H0V0z\" fill=\"none\"/>\n",
              "    <path d=\"M18.56 5.44l.94 2.06.94-2.06 2.06-.94-2.06-.94-.94-2.06-.94 2.06-2.06.94zm-11 1L8.5 8.5l.94-2.06 2.06-.94-2.06-.94L8.5 2.5l-.94 2.06-2.06.94zm10 10l.94 2.06.94-2.06 2.06-.94-2.06-.94-.94-2.06-.94 2.06-2.06.94z\"/><path d=\"M17.41 7.96l-1.37-1.37c-.4-.4-.92-.59-1.43-.59-.52 0-1.04.2-1.43.59L10.3 9.45l-7.72 7.72c-.78.78-.78 2.05 0 2.83L4 21.41c.39.39.9.59 1.41.59.51 0 1.02-.2 1.41-.59l7.78-7.78 2.81-2.81c.8-.78.8-2.07 0-2.86zM5.41 20L4 18.59l7.72-7.72 1.47 1.35L5.41 20z\"/>\n",
              "  </svg>\n",
              "      </button>\n",
              "      \n",
              "  <style>\n",
              "    .colab-df-container {\n",
              "      display:flex;\n",
              "      flex-wrap:wrap;\n",
              "      gap: 12px;\n",
              "    }\n",
              "\n",
              "    .colab-df-convert {\n",
              "      background-color: #E8F0FE;\n",
              "      border: none;\n",
              "      border-radius: 50%;\n",
              "      cursor: pointer;\n",
              "      display: none;\n",
              "      fill: #1967D2;\n",
              "      height: 32px;\n",
              "      padding: 0 0 0 0;\n",
              "      width: 32px;\n",
              "    }\n",
              "\n",
              "    .colab-df-convert:hover {\n",
              "      background-color: #E2EBFA;\n",
              "      box-shadow: 0px 1px 2px rgba(60, 64, 67, 0.3), 0px 1px 3px 1px rgba(60, 64, 67, 0.15);\n",
              "      fill: #174EA6;\n",
              "    }\n",
              "\n",
              "    [theme=dark] .colab-df-convert {\n",
              "      background-color: #3B4455;\n",
              "      fill: #D2E3FC;\n",
              "    }\n",
              "\n",
              "    [theme=dark] .colab-df-convert:hover {\n",
              "      background-color: #434B5C;\n",
              "      box-shadow: 0px 1px 3px 1px rgba(0, 0, 0, 0.15);\n",
              "      filter: drop-shadow(0px 1px 2px rgba(0, 0, 0, 0.3));\n",
              "      fill: #FFFFFF;\n",
              "    }\n",
              "  </style>\n",
              "\n",
              "      <script>\n",
              "        const buttonEl =\n",
              "          document.querySelector('#df-3159968c-ba96-452f-b615-2ab91d5f2447 button.colab-df-convert');\n",
              "        buttonEl.style.display =\n",
              "          google.colab.kernel.accessAllowed ? 'block' : 'none';\n",
              "\n",
              "        async function convertToInteractive(key) {\n",
              "          const element = document.querySelector('#df-3159968c-ba96-452f-b615-2ab91d5f2447');\n",
              "          const dataTable =\n",
              "            await google.colab.kernel.invokeFunction('convertToInteractive',\n",
              "                                                     [key], {});\n",
              "          if (!dataTable) return;\n",
              "\n",
              "          const docLinkHtml = 'Like what you see? Visit the ' +\n",
              "            '<a target=\"_blank\" href=https://colab.research.google.com/notebooks/data_table.ipynb>data table notebook</a>'\n",
              "            + ' to learn more about interactive tables.';\n",
              "          element.innerHTML = '';\n",
              "          dataTable['output_type'] = 'display_data';\n",
              "          await google.colab.output.renderOutput(dataTable, element);\n",
              "          const docLink = document.createElement('div');\n",
              "          docLink.innerHTML = docLinkHtml;\n",
              "          element.appendChild(docLink);\n",
              "        }\n",
              "      </script>\n",
              "    </div>\n",
              "  </div>\n",
              "  "
            ]
          },
          "metadata": {},
          "execution_count": 4
        }
      ]
    },
    {
      "cell_type": "markdown",
      "source": [
        "**Clean the data:**\n",
        "1. Most of the values in 'yr_renovated' column are 'zero' because those houses are not renovated since built. In such cases make yr_renovated = yr_built.\n",
        "2. create columns 'age' and 'age_renovated' from 'yr_built' and 'yr_renovated' columns by substracting them from current year.\n",
        "3. Drop all the unimportant columns from the dataframe. \n",
        "4. 'sqft_basement' column has a lot of zeros, which does not add much information. so, remove it.  "
      ],
      "metadata": {
        "id": "mkg37aYEF4wa"
      }
    },
    {
      "cell_type": "code",
      "source": [
        "df['yr_renovated']=df['yr_renovated'].mask(df['yr_renovated'].eq(0),df['yr_built'])"
      ],
      "metadata": {
        "id": "ifJc5fh880iz"
      },
      "execution_count": 5,
      "outputs": []
    },
    {
      "cell_type": "code",
      "source": [
        "df['age'] = 2022 - df['yr_built']\n",
        "df['age_renovated'] = 2022 - df['yr_renovated']"
      ],
      "metadata": {
        "id": "MhUmk-4V82Gv"
      },
      "execution_count": 6,
      "outputs": []
    },
    {
      "cell_type": "code",
      "source": [
        "df = df.drop(['id', 'date', 'yr_built', 'yr_renovated', 'zipcode', 'lat', 'long', 'waterfront', 'view'], axis = 1)"
      ],
      "metadata": {
        "id": "J3GK4HR_f8CG"
      },
      "execution_count": 7,
      "outputs": []
    },
    {
      "cell_type": "code",
      "source": [
        "df = df.drop(['sqft_basement'], axis = 1)\n",
        "df"
      ],
      "metadata": {
        "colab": {
          "base_uri": "https://localhost:8080/",
          "height": 424
        },
        "id": "8QR8FpIh9N6V",
        "outputId": "187e4440-ae5d-496a-d96f-7766d10237a1"
      },
      "execution_count": 9,
      "outputs": [
        {
          "output_type": "execute_result",
          "data": {
            "text/plain": [
              "          price  bedrooms  bathrooms  sqft_living  sqft_lot  floors  \\\n",
              "0      221900.0         3       1.00         1180      5650     1.0   \n",
              "1      538000.0         3       2.25         2570      7242     2.0   \n",
              "2      180000.0         2       1.00          770     10000     1.0   \n",
              "3      604000.0         4       3.00         1960      5000     1.0   \n",
              "4      510000.0         3       2.00         1680      8080     1.0   \n",
              "...         ...       ...        ...          ...       ...     ...   \n",
              "21608  360000.0         3       2.50         1530      1131     3.0   \n",
              "21609  400000.0         4       2.50         2310      5813     2.0   \n",
              "21610  402101.0         2       0.75         1020      1350     2.0   \n",
              "21611  400000.0         3       2.50         1600      2388     2.0   \n",
              "21612  325000.0         2       0.75         1020      1076     2.0   \n",
              "\n",
              "       condition  grade  sqft_above  sqft_living15  sqft_lot15  age  \\\n",
              "0              3      7        1180           1340        5650   67   \n",
              "1              3      7        2170           1690        7639   71   \n",
              "2              3      6         770           2720        8062   89   \n",
              "3              5      7        1050           1360        5000   57   \n",
              "4              3      8        1680           1800        7503   35   \n",
              "...          ...    ...         ...            ...         ...  ...   \n",
              "21608          3      8        1530           1530        1509   13   \n",
              "21609          3      8        2310           1830        7200    8   \n",
              "21610          3      7        1020           1020        2007   13   \n",
              "21611          3      8        1600           1410        1287   18   \n",
              "21612          3      7        1020           1020        1357   14   \n",
              "\n",
              "       age_renovated  \n",
              "0                 67  \n",
              "1                 31  \n",
              "2                 89  \n",
              "3                 57  \n",
              "4                 35  \n",
              "...              ...  \n",
              "21608             13  \n",
              "21609              8  \n",
              "21610             13  \n",
              "21611             18  \n",
              "21612             14  \n",
              "\n",
              "[21613 rows x 13 columns]"
            ],
            "text/html": [
              "\n",
              "  <div id=\"df-aa37e13b-e398-40aa-a8f6-6f39d306da6e\">\n",
              "    <div class=\"colab-df-container\">\n",
              "      <div>\n",
              "<style scoped>\n",
              "    .dataframe tbody tr th:only-of-type {\n",
              "        vertical-align: middle;\n",
              "    }\n",
              "\n",
              "    .dataframe tbody tr th {\n",
              "        vertical-align: top;\n",
              "    }\n",
              "\n",
              "    .dataframe thead th {\n",
              "        text-align: right;\n",
              "    }\n",
              "</style>\n",
              "<table border=\"1\" class=\"dataframe\">\n",
              "  <thead>\n",
              "    <tr style=\"text-align: right;\">\n",
              "      <th></th>\n",
              "      <th>price</th>\n",
              "      <th>bedrooms</th>\n",
              "      <th>bathrooms</th>\n",
              "      <th>sqft_living</th>\n",
              "      <th>sqft_lot</th>\n",
              "      <th>floors</th>\n",
              "      <th>condition</th>\n",
              "      <th>grade</th>\n",
              "      <th>sqft_above</th>\n",
              "      <th>sqft_living15</th>\n",
              "      <th>sqft_lot15</th>\n",
              "      <th>age</th>\n",
              "      <th>age_renovated</th>\n",
              "    </tr>\n",
              "  </thead>\n",
              "  <tbody>\n",
              "    <tr>\n",
              "      <th>0</th>\n",
              "      <td>221900.0</td>\n",
              "      <td>3</td>\n",
              "      <td>1.00</td>\n",
              "      <td>1180</td>\n",
              "      <td>5650</td>\n",
              "      <td>1.0</td>\n",
              "      <td>3</td>\n",
              "      <td>7</td>\n",
              "      <td>1180</td>\n",
              "      <td>1340</td>\n",
              "      <td>5650</td>\n",
              "      <td>67</td>\n",
              "      <td>67</td>\n",
              "    </tr>\n",
              "    <tr>\n",
              "      <th>1</th>\n",
              "      <td>538000.0</td>\n",
              "      <td>3</td>\n",
              "      <td>2.25</td>\n",
              "      <td>2570</td>\n",
              "      <td>7242</td>\n",
              "      <td>2.0</td>\n",
              "      <td>3</td>\n",
              "      <td>7</td>\n",
              "      <td>2170</td>\n",
              "      <td>1690</td>\n",
              "      <td>7639</td>\n",
              "      <td>71</td>\n",
              "      <td>31</td>\n",
              "    </tr>\n",
              "    <tr>\n",
              "      <th>2</th>\n",
              "      <td>180000.0</td>\n",
              "      <td>2</td>\n",
              "      <td>1.00</td>\n",
              "      <td>770</td>\n",
              "      <td>10000</td>\n",
              "      <td>1.0</td>\n",
              "      <td>3</td>\n",
              "      <td>6</td>\n",
              "      <td>770</td>\n",
              "      <td>2720</td>\n",
              "      <td>8062</td>\n",
              "      <td>89</td>\n",
              "      <td>89</td>\n",
              "    </tr>\n",
              "    <tr>\n",
              "      <th>3</th>\n",
              "      <td>604000.0</td>\n",
              "      <td>4</td>\n",
              "      <td>3.00</td>\n",
              "      <td>1960</td>\n",
              "      <td>5000</td>\n",
              "      <td>1.0</td>\n",
              "      <td>5</td>\n",
              "      <td>7</td>\n",
              "      <td>1050</td>\n",
              "      <td>1360</td>\n",
              "      <td>5000</td>\n",
              "      <td>57</td>\n",
              "      <td>57</td>\n",
              "    </tr>\n",
              "    <tr>\n",
              "      <th>4</th>\n",
              "      <td>510000.0</td>\n",
              "      <td>3</td>\n",
              "      <td>2.00</td>\n",
              "      <td>1680</td>\n",
              "      <td>8080</td>\n",
              "      <td>1.0</td>\n",
              "      <td>3</td>\n",
              "      <td>8</td>\n",
              "      <td>1680</td>\n",
              "      <td>1800</td>\n",
              "      <td>7503</td>\n",
              "      <td>35</td>\n",
              "      <td>35</td>\n",
              "    </tr>\n",
              "    <tr>\n",
              "      <th>...</th>\n",
              "      <td>...</td>\n",
              "      <td>...</td>\n",
              "      <td>...</td>\n",
              "      <td>...</td>\n",
              "      <td>...</td>\n",
              "      <td>...</td>\n",
              "      <td>...</td>\n",
              "      <td>...</td>\n",
              "      <td>...</td>\n",
              "      <td>...</td>\n",
              "      <td>...</td>\n",
              "      <td>...</td>\n",
              "      <td>...</td>\n",
              "    </tr>\n",
              "    <tr>\n",
              "      <th>21608</th>\n",
              "      <td>360000.0</td>\n",
              "      <td>3</td>\n",
              "      <td>2.50</td>\n",
              "      <td>1530</td>\n",
              "      <td>1131</td>\n",
              "      <td>3.0</td>\n",
              "      <td>3</td>\n",
              "      <td>8</td>\n",
              "      <td>1530</td>\n",
              "      <td>1530</td>\n",
              "      <td>1509</td>\n",
              "      <td>13</td>\n",
              "      <td>13</td>\n",
              "    </tr>\n",
              "    <tr>\n",
              "      <th>21609</th>\n",
              "      <td>400000.0</td>\n",
              "      <td>4</td>\n",
              "      <td>2.50</td>\n",
              "      <td>2310</td>\n",
              "      <td>5813</td>\n",
              "      <td>2.0</td>\n",
              "      <td>3</td>\n",
              "      <td>8</td>\n",
              "      <td>2310</td>\n",
              "      <td>1830</td>\n",
              "      <td>7200</td>\n",
              "      <td>8</td>\n",
              "      <td>8</td>\n",
              "    </tr>\n",
              "    <tr>\n",
              "      <th>21610</th>\n",
              "      <td>402101.0</td>\n",
              "      <td>2</td>\n",
              "      <td>0.75</td>\n",
              "      <td>1020</td>\n",
              "      <td>1350</td>\n",
              "      <td>2.0</td>\n",
              "      <td>3</td>\n",
              "      <td>7</td>\n",
              "      <td>1020</td>\n",
              "      <td>1020</td>\n",
              "      <td>2007</td>\n",
              "      <td>13</td>\n",
              "      <td>13</td>\n",
              "    </tr>\n",
              "    <tr>\n",
              "      <th>21611</th>\n",
              "      <td>400000.0</td>\n",
              "      <td>3</td>\n",
              "      <td>2.50</td>\n",
              "      <td>1600</td>\n",
              "      <td>2388</td>\n",
              "      <td>2.0</td>\n",
              "      <td>3</td>\n",
              "      <td>8</td>\n",
              "      <td>1600</td>\n",
              "      <td>1410</td>\n",
              "      <td>1287</td>\n",
              "      <td>18</td>\n",
              "      <td>18</td>\n",
              "    </tr>\n",
              "    <tr>\n",
              "      <th>21612</th>\n",
              "      <td>325000.0</td>\n",
              "      <td>2</td>\n",
              "      <td>0.75</td>\n",
              "      <td>1020</td>\n",
              "      <td>1076</td>\n",
              "      <td>2.0</td>\n",
              "      <td>3</td>\n",
              "      <td>7</td>\n",
              "      <td>1020</td>\n",
              "      <td>1020</td>\n",
              "      <td>1357</td>\n",
              "      <td>14</td>\n",
              "      <td>14</td>\n",
              "    </tr>\n",
              "  </tbody>\n",
              "</table>\n",
              "<p>21613 rows × 13 columns</p>\n",
              "</div>\n",
              "      <button class=\"colab-df-convert\" onclick=\"convertToInteractive('df-aa37e13b-e398-40aa-a8f6-6f39d306da6e')\"\n",
              "              title=\"Convert this dataframe to an interactive table.\"\n",
              "              style=\"display:none;\">\n",
              "        \n",
              "  <svg xmlns=\"http://www.w3.org/2000/svg\" height=\"24px\"viewBox=\"0 0 24 24\"\n",
              "       width=\"24px\">\n",
              "    <path d=\"M0 0h24v24H0V0z\" fill=\"none\"/>\n",
              "    <path d=\"M18.56 5.44l.94 2.06.94-2.06 2.06-.94-2.06-.94-.94-2.06-.94 2.06-2.06.94zm-11 1L8.5 8.5l.94-2.06 2.06-.94-2.06-.94L8.5 2.5l-.94 2.06-2.06.94zm10 10l.94 2.06.94-2.06 2.06-.94-2.06-.94-.94-2.06-.94 2.06-2.06.94z\"/><path d=\"M17.41 7.96l-1.37-1.37c-.4-.4-.92-.59-1.43-.59-.52 0-1.04.2-1.43.59L10.3 9.45l-7.72 7.72c-.78.78-.78 2.05 0 2.83L4 21.41c.39.39.9.59 1.41.59.51 0 1.02-.2 1.41-.59l7.78-7.78 2.81-2.81c.8-.78.8-2.07 0-2.86zM5.41 20L4 18.59l7.72-7.72 1.47 1.35L5.41 20z\"/>\n",
              "  </svg>\n",
              "      </button>\n",
              "      \n",
              "  <style>\n",
              "    .colab-df-container {\n",
              "      display:flex;\n",
              "      flex-wrap:wrap;\n",
              "      gap: 12px;\n",
              "    }\n",
              "\n",
              "    .colab-df-convert {\n",
              "      background-color: #E8F0FE;\n",
              "      border: none;\n",
              "      border-radius: 50%;\n",
              "      cursor: pointer;\n",
              "      display: none;\n",
              "      fill: #1967D2;\n",
              "      height: 32px;\n",
              "      padding: 0 0 0 0;\n",
              "      width: 32px;\n",
              "    }\n",
              "\n",
              "    .colab-df-convert:hover {\n",
              "      background-color: #E2EBFA;\n",
              "      box-shadow: 0px 1px 2px rgba(60, 64, 67, 0.3), 0px 1px 3px 1px rgba(60, 64, 67, 0.15);\n",
              "      fill: #174EA6;\n",
              "    }\n",
              "\n",
              "    [theme=dark] .colab-df-convert {\n",
              "      background-color: #3B4455;\n",
              "      fill: #D2E3FC;\n",
              "    }\n",
              "\n",
              "    [theme=dark] .colab-df-convert:hover {\n",
              "      background-color: #434B5C;\n",
              "      box-shadow: 0px 1px 3px 1px rgba(0, 0, 0, 0.15);\n",
              "      filter: drop-shadow(0px 1px 2px rgba(0, 0, 0, 0.3));\n",
              "      fill: #FFFFFF;\n",
              "    }\n",
              "  </style>\n",
              "\n",
              "      <script>\n",
              "        const buttonEl =\n",
              "          document.querySelector('#df-aa37e13b-e398-40aa-a8f6-6f39d306da6e button.colab-df-convert');\n",
              "        buttonEl.style.display =\n",
              "          google.colab.kernel.accessAllowed ? 'block' : 'none';\n",
              "\n",
              "        async function convertToInteractive(key) {\n",
              "          const element = document.querySelector('#df-aa37e13b-e398-40aa-a8f6-6f39d306da6e');\n",
              "          const dataTable =\n",
              "            await google.colab.kernel.invokeFunction('convertToInteractive',\n",
              "                                                     [key], {});\n",
              "          if (!dataTable) return;\n",
              "\n",
              "          const docLinkHtml = 'Like what you see? Visit the ' +\n",
              "            '<a target=\"_blank\" href=https://colab.research.google.com/notebooks/data_table.ipynb>data table notebook</a>'\n",
              "            + ' to learn more about interactive tables.';\n",
              "          element.innerHTML = '';\n",
              "          dataTable['output_type'] = 'display_data';\n",
              "          await google.colab.output.renderOutput(dataTable, element);\n",
              "          const docLink = document.createElement('div');\n",
              "          docLink.innerHTML = docLinkHtml;\n",
              "          element.appendChild(docLink);\n",
              "        }\n",
              "      </script>\n",
              "    </div>\n",
              "  </div>\n",
              "  "
            ]
          },
          "metadata": {},
          "execution_count": 9
        }
      ]
    },
    {
      "cell_type": "markdown",
      "source": [
        "Convert the dataframe in to nd-array to perform matrix operations."
      ],
      "metadata": {
        "id": "a_xqHLi3pe5i"
      }
    },
    {
      "cell_type": "code",
      "source": [
        "data = np.array(df, dtype=float)"
      ],
      "metadata": {
        "id": "kpONyVFzkQWU"
      },
      "execution_count": 10,
      "outputs": []
    },
    {
      "cell_type": "code",
      "source": [
        "data.shape"
      ],
      "metadata": {
        "colab": {
          "base_uri": "https://localhost:8080/"
        },
        "id": "Ad-aXrAykQcL",
        "outputId": "244deece-2340-4f51-a4ad-dd8ea1e56f46"
      },
      "execution_count": 11,
      "outputs": [
        {
          "output_type": "execute_result",
          "data": {
            "text/plain": [
              "(21613, 13)"
            ]
          },
          "metadata": {},
          "execution_count": 11
        }
      ]
    },
    {
      "cell_type": "markdown",
      "source": [
        "**Scaling the dataset**\n",
        "\n",
        "scaled_Xi = (Xi - mean(Xi)) / std(Xi)\n",
        "\n"
      ],
      "metadata": {
        "id": "sbXhOOjIp5Rr"
      }
    },
    {
      "cell_type": "code",
      "source": [
        "mu,std = [],[]\n",
        "for i in range(0,data.shape[1]):\n",
        "\t\tdata[:,i] = ((data[:,i] - np.mean(data[:,i]))/np.std(data[:, i]))\n",
        "\t\tmu.append(np.mean(data[:,i]))\n",
        "\t\tstd.append(np.std(data[:, i]))\n",
        "data"
      ],
      "metadata": {
        "id": "bcCXzMPcnSAs",
        "colab": {
          "base_uri": "https://localhost:8080/"
        },
        "outputId": "1d42cd5c-52fd-4745-eb6c-9381ca3b7e5e"
      },
      "execution_count": 12,
      "outputs": [
        {
          "output_type": "execute_result",
          "data": {
            "text/plain": [
              "array([[-0.86671733, -0.39873715, -1.44746357, ..., -0.26071541,\n",
              "         0.54489777,  0.63826626],\n",
              "       [-0.00568792, -0.39873715,  0.1756067 , ..., -0.18786773,\n",
              "         0.6810785 , -0.61146524],\n",
              "       [-0.98084935, -1.47395936, -1.44746357, ..., -0.17237524,\n",
              "         1.29389179,  1.40199107],\n",
              "       ...,\n",
              "       [-0.37586519, -1.47395936, -1.77207762, ..., -0.39414129,\n",
              "        -1.29354209, -1.23633099],\n",
              "       [-0.38158814, -0.39873715,  0.50022075, ..., -0.42051149,\n",
              "        -1.12331618, -1.06275717],\n",
              "       [-0.58588173, -1.47395936, -1.77207762, ..., -0.41794772,\n",
              "        -1.25949691, -1.20161623]])"
            ]
          },
          "metadata": {},
          "execution_count": 12
        }
      ]
    },
    {
      "cell_type": "code",
      "source": [
        "data[0]"
      ],
      "metadata": {
        "colab": {
          "base_uri": "https://localhost:8080/"
        },
        "id": "xYQxs5N49aou",
        "outputId": "ab20269c-42e8-4011-a172-238da24b058e"
      },
      "execution_count": 14,
      "outputs": [
        {
          "output_type": "execute_result",
          "data": {
            "text/plain": [
              "array([-0.86671733, -0.39873715, -1.44746357, -0.97983502, -0.22832133,\n",
              "       -0.915427  , -0.62918687, -0.55883575, -0.73470764, -0.9433552 ,\n",
              "       -0.26071541,  0.54489777,  0.63826626])"
            ]
          },
          "metadata": {},
          "execution_count": 14
        }
      ]
    },
    {
      "cell_type": "markdown",
      "source": [
        "Setting 'house_price' as target variable(Y) and array of all the other columns as input feature vector(X)."
      ],
      "metadata": {
        "id": "ceIp7bYsq0JU"
      }
    },
    {
      "cell_type": "code",
      "source": [
        "X,Y = data[:,1:], data[:,0]\n",
        "Y,X"
      ],
      "metadata": {
        "colab": {
          "base_uri": "https://localhost:8080/"
        },
        "id": "NyT78KGTVbsN",
        "outputId": "37d8b719-ad97-4143-81b7-d1b1847c7e46"
      },
      "execution_count": 15,
      "outputs": [
        {
          "output_type": "execute_result",
          "data": {
            "text/plain": [
              "(array([-0.86671733, -0.00568792, -0.98084935, ..., -0.37586519,\n",
              "        -0.38158814, -0.58588173]),\n",
              " array([[-0.39873715, -1.44746357, -0.97983502, ..., -0.26071541,\n",
              "          0.54489777,  0.63826626],\n",
              "        [-0.39873715,  0.1756067 ,  0.53363434, ..., -0.18786773,\n",
              "          0.6810785 , -0.61146524],\n",
              "        [-1.47395936, -1.44746357, -1.42625404, ..., -0.17237524,\n",
              "          1.29389179,  1.40199107],\n",
              "        ...,\n",
              "        [-1.47395936, -1.77207762, -1.15404732, ..., -0.39414129,\n",
              "         -1.29354209, -1.23633099],\n",
              "        [-0.39873715,  0.50022075, -0.52252773, ..., -0.42051149,\n",
              "         -1.12331618, -1.06275717],\n",
              "        [-1.47395936, -1.77207762, -1.15404732, ..., -0.41794772,\n",
              "         -1.25949691, -1.20161623]]))"
            ]
          },
          "metadata": {},
          "execution_count": 15
        }
      ]
    },
    {
      "cell_type": "markdown",
      "source": [
        "Splitting the dataset in to train and test sets."
      ],
      "metadata": {
        "id": "EElUPnn2rT2v"
      }
    },
    {
      "cell_type": "code",
      "source": [
        "x_train, x_test = X[:20000], X[20000:]\n",
        "y_train, y_test = Y[:20000], Y[20000:]\n",
        "x_train.shape, y_train.shape"
      ],
      "metadata": {
        "colab": {
          "base_uri": "https://localhost:8080/"
        },
        "id": "dgDpyuwC-o_O",
        "outputId": "68e6da3c-7250-4ec2-a2fe-6f6e6b1a3e1a"
      },
      "execution_count": 16,
      "outputs": [
        {
          "output_type": "execute_result",
          "data": {
            "text/plain": [
              "((20000, 12), (20000,))"
            ]
          },
          "metadata": {},
          "execution_count": 16
        }
      ]
    },
    {
      "cell_type": "markdown",
      "source": [
        "To simplify the vectorization, insert '1' to each traing example, so that the first feature value of each training example is one."
      ],
      "metadata": {
        "id": "uoQpi5VPrhQn"
      }
    },
    {
      "cell_type": "code",
      "source": [
        "x_train = np.hstack((np.ones((x_train.shape[0],1)), x_train))\n",
        "x_test = np.hstack((np.ones((x_test.shape[0],1)), x_test))"
      ],
      "metadata": {
        "id": "VmG7DI3A__Ov"
      },
      "execution_count": 17,
      "outputs": []
    },
    {
      "cell_type": "code",
      "source": [
        "x_train[:3]"
      ],
      "metadata": {
        "colab": {
          "base_uri": "https://localhost:8080/"
        },
        "id": "_POLAfGfAYms",
        "outputId": "25d91938-7ffc-4757-d340-17195c6051bc"
      },
      "execution_count": 18,
      "outputs": [
        {
          "output_type": "execute_result",
          "data": {
            "text/plain": [
              "array([[ 1.        , -0.39873715, -1.44746357, -0.97983502, -0.22832133,\n",
              "        -0.915427  , -0.62918687, -0.55883575, -0.73470764, -0.9433552 ,\n",
              "        -0.26071541,  0.54489777,  0.63826626],\n",
              "       [ 1.        , -0.39873715,  0.1756067 ,  0.53363434, -0.18988538,\n",
              "         0.93650577, -0.62918687, -0.55883575,  0.46084084, -0.43268619,\n",
              "        -0.18786773,  0.6810785 , -0.61146524],\n",
              "       [ 1.        , -1.47395936, -1.44746357, -1.42625404, -0.12329847,\n",
              "        -0.915427  , -0.62918687, -1.40958711, -1.22983377,  1.07013975,\n",
              "        -0.17237524,  1.29389179,  1.40199107]])"
            ]
          },
          "metadata": {},
          "execution_count": 18
        }
      ]
    },
    {
      "cell_type": "code",
      "source": [
        "x_test[0:3]"
      ],
      "metadata": {
        "colab": {
          "base_uri": "https://localhost:8080/"
        },
        "id": "_bYowew5AxNr",
        "outputId": "0a8d4153-2d49-4c0a-b377-290214462add"
      },
      "execution_count": 19,
      "outputs": [
        {
          "output_type": "execute_result",
          "data": {
            "text/plain": [
              "array([[ 1.        , -0.39873715,  0.50022075, -0.89272887, -0.33812454,\n",
              "         2.78843855, -0.62918687,  0.29191561, -0.63809766, -0.97253628,\n",
              "        -0.37608503, -1.22545173, -1.16690146],\n",
              "       [ 1.        , -0.39873715,  0.50022075, -0.45719812, -0.32388006,\n",
              "         2.78843855, -0.62918687, -0.55883575, -0.21542901, -1.13303226,\n",
              "        -0.42259913, -1.15736136, -1.09747193],\n",
              "       [ 1.        , -0.39873715,  0.1756067 , -0.96894675, -0.33727953,\n",
              "         0.93650577, -0.62918687, -0.55883575, -1.00038508, -1.16221334,\n",
              "        -0.42809292, -0.95309026, -0.88918335]])"
            ]
          },
          "metadata": {},
          "execution_count": 19
        }
      ]
    },
    {
      "cell_type": "code",
      "source": [
        "y_train = np.reshape(y_train, (len(y_train),1))\n",
        "y_train.shape"
      ],
      "metadata": {
        "colab": {
          "base_uri": "https://localhost:8080/"
        },
        "id": "dcg_EZg8-soR",
        "outputId": "21f9baf1-7c70-4e67-d4fe-69c864a34b0e"
      },
      "execution_count": 20,
      "outputs": [
        {
          "output_type": "execute_result",
          "data": {
            "text/plain": [
              "(20000, 1)"
            ]
          },
          "metadata": {},
          "execution_count": 20
        }
      ]
    },
    {
      "cell_type": "markdown",
      "source": [
        "**Training the model**\n",
        "1. Initialize the parameters W , alpha(learning rate), n_iter\n",
        "2.  Calculate yhat(predicted value) on training set\n",
        "3. Calculate cost of each iteration and append it to cost list(for plotting).\n",
        "4. Apply gradient descent and update the parameter vector."
      ],
      "metadata": {
        "id": "0mE1csPgt8yV"
      }
    },
    {
      "cell_type": "code",
      "source": [
        "cost = []\n",
        "iter = []\n",
        "count = 0\n",
        "W = np.random.uniform(0,1,len(x_train[1]))\n",
        "W = np.reshape(W, (1,len(W)))\n",
        "alpha = 0.003\n",
        "n_iter = 1000\n",
        "\n",
        "for i in range(n_iter):\n",
        "  yhat = np.dot(W, x_train.T)\n",
        "  yhat = np.reshape(yhat, (y_train.shape[0],1))\n",
        "  cost.append(np.sum((yhat - y_train) * (yhat- y_train))/(2*x_train.shape[0]))\n",
        "  dj=np.dot(x_train.T, (yhat - y_train))\n",
        "  dj1=dj/y_train.shape[0]\n",
        "  dj1 = np.reshape(dj1, (1,len(dj1)))\n",
        "  W=W-alpha*dj1\n",
        "  count = count+1\n",
        "  iter.append(count)\n"
      ],
      "metadata": {
        "id": "s0LBXYT7HmjG"
      },
      "execution_count": 23,
      "outputs": []
    },
    {
      "cell_type": "markdown",
      "source": [
        "Plotting the cost function"
      ],
      "metadata": {
        "id": "XjAqFIs_vWsY"
      }
    },
    {
      "cell_type": "code",
      "source": [
        "import matplotlib.pyplot as plt\n",
        "plt.plot(iter,cost)\n",
        "plt.show()"
      ],
      "metadata": {
        "colab": {
          "base_uri": "https://localhost:8080/",
          "height": 265
        },
        "id": "EA7XBnz8K2BX",
        "outputId": "12f02556-6669-48f0-fe57-4b4f92383b01"
      },
      "execution_count": 24,
      "outputs": [
        {
          "output_type": "display_data",
          "data": {
            "text/plain": [
              "<Figure size 432x288 with 1 Axes>"
            ],
            "image/png": "[encoded data removed]"
          },
          "metadata": {
            "needs_background": "light"
          }
        }
      ]
    },
    {
      "cell_type": "markdown",
      "source": [
        "The resultant weight(parameters) vector is:"
      ],
      "metadata": {
        "id": "yW-fnSi2vccw"
      }
    },
    {
      "cell_type": "code",
      "source": [
        "W,W.shape"
      ],
      "metadata": {
        "colab": {
          "base_uri": "https://localhost:8080/"
        },
        "id": "h2FYKNuVLXLF",
        "outputId": "69af871a-231e-4aa5-8fbf-b80f4f36e1a7"
      },
      "execution_count": 25,
      "outputs": [
        {
          "output_type": "execute_result",
          "data": {
            "text/plain": [
              "(array([[ 0.01610684,  0.01916344,  0.24391184, -0.03865965,  0.04709405,\n",
              "          0.00273491,  0.01651178,  0.57825289,  0.1728835 ,  0.04658175,\n",
              "         -0.04179181,  0.48762778, -0.05106086]]), (1, 13))"
            ]
          },
          "metadata": {},
          "execution_count": 25
        }
      ]
    },
    {
      "cell_type": "markdown",
      "source": [
        "Using the above parameters, predict the values for test set."
      ],
      "metadata": {
        "id": "CPrRSmEbvn7h"
      }
    },
    {
      "cell_type": "code",
      "source": [
        "out = np.dot(W, x_test.T)\n",
        "out,out.shape"
      ],
      "metadata": {
        "colab": {
          "base_uri": "https://localhost:8080/"
        },
        "id": "PIq4wkWXLfJu",
        "outputId": "b0e0292b-468a-42c3-c235-2f98d6fbac99"
      },
      "execution_count": 26,
      "outputs": [
        {
          "output_type": "execute_result",
          "data": {
            "text/plain": [
              "(array([[-0.36278052, -0.7736988 , -0.88665068, ..., -1.52365522,\n",
              "         -0.25725042, -1.50814304]]), (1, 1613))"
            ]
          },
          "metadata": {},
          "execution_count": 26
        }
      ]
    },
    {
      "cell_type": "code",
      "source": [
        "x_test.shape,y_test.shape"
      ],
      "metadata": {
        "colab": {
          "base_uri": "https://localhost:8080/"
        },
        "id": "oUJuDxV3LfaS",
        "outputId": "1549d79d-5fd9-4520-f594-88c70343497a"
      },
      "execution_count": 27,
      "outputs": [
        {
          "output_type": "execute_result",
          "data": {
            "text/plain": [
              "((1613, 13), (1613,))"
            ]
          },
          "metadata": {},
          "execution_count": 27
        }
      ]
    },
    {
      "cell_type": "code",
      "source": [
        "y_test = np.reshape(y_test, (1,len(y_test)))"
      ],
      "metadata": {
        "id": "-fFCULW4cOTB"
      },
      "execution_count": 28,
      "outputs": []
    },
    {
      "cell_type": "code",
      "source": [
        "y_test.shape"
      ],
      "metadata": {
        "colab": {
          "base_uri": "https://localhost:8080/"
        },
        "id": "E-w1MPjkcYE3",
        "outputId": "0516fe7c-fc9b-4c2d-97d5-8ad138c8a534"
      },
      "execution_count": 29,
      "outputs": [
        {
          "output_type": "execute_result",
          "data": {
            "text/plain": [
              "(1, 1613)"
            ]
          },
          "metadata": {},
          "execution_count": 29
        }
      ]
    },
    {
      "cell_type": "markdown",
      "source": [
        "Compting the mean squared error on the test set"
      ],
      "metadata": {
        "id": "uQfxRziPv2Rf"
      }
    },
    {
      "cell_type": "code",
      "source": [
        "Avg_error = np.sum((out-y_test) * (out-y_test)) /y_test.shape[1]\n",
        "Avg_error"
      ],
      "metadata": {
        "colab": {
          "base_uri": "https://localhost:8080/"
        },
        "id": "M9YSYP9vcDU3",
        "outputId": "4cabbabf-22f7-478f-c5a8-df62d15b95b8"
      },
      "execution_count": 30,
      "outputs": [
        {
          "output_type": "execute_result",
          "data": {
            "text/plain": [
              "0.46456509386373923"
            ]
          },
          "metadata": {},
          "execution_count": 30
        }
      ]
    }
  ]
}